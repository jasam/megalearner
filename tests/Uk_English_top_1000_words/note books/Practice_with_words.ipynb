{
 "cells": [
  {
   "cell_type": "code",
   "execution_count": 800,
   "metadata": {
    "collapsed": false
   },
   "outputs": [],
   "source": [
    "from IPython.display import Image\n",
    "from IPython.display import Audio\n",
    "from random import sample\n",
    "import pandas as pd\n",
    "\n",
    "#Read data\n",
    "file_name = \"E:/repos_git/megalearner/tests/Uk_English_top_1000_words/master_words_rules.csv\"\n",
    "words_df = pd.read_csv(file_name, names=[\"word\", \"mean\", \"phonetic\", \"rule\", \"path_mp3\", \"image_path\"])"
   ]
  },
  {
   "cell_type": "code",
   "execution_count": null,
   "metadata": {
    "collapsed": false
   },
   "outputs": [],
   "source": [
    "#Types\n",
    "words_df.dtypes"
   ]
  },
  {
   "cell_type": "code",
   "execution_count": null,
   "metadata": {
    "collapsed": false
   },
   "outputs": [],
   "source": [
    "#select columns\n",
    "words_df[[\"word\", \"phonetic\"]]"
   ]
  },
  {
   "cell_type": "code",
   "execution_count": null,
   "metadata": {
    "collapsed": false
   },
   "outputs": [],
   "source": [
    "#head\n",
    "words_df.head()"
   ]
  },
  {
   "cell_type": "code",
   "execution_count": null,
   "metadata": {
    "collapsed": false
   },
   "outputs": [],
   "source": [
    "#tail\n",
    "words_df.tail()"
   ]
  },
  {
   "cell_type": "code",
   "execution_count": null,
   "metadata": {
    "collapsed": false
   },
   "outputs": [],
   "source": [
    "# Transpose\n",
    "words_df.T"
   ]
  },
  {
   "cell_type": "code",
   "execution_count": null,
   "metadata": {
    "collapsed": false
   },
   "outputs": [],
   "source": [
    "# Order\n",
    "words_df.sort([\"word\"], ascending=True)"
   ]
  },
  {
   "cell_type": "code",
   "execution_count": null,
   "metadata": {
    "collapsed": false
   },
   "outputs": [],
   "source": [
    "# where condition\n",
    "words_df[words_df.word == \"ability\"]"
   ]
  },
  {
   "cell_type": "code",
   "execution_count": null,
   "metadata": {
    "collapsed": false
   },
   "outputs": [],
   "source": [
    "# Where condition with \"or\"\n",
    "words_df[words_df[\"word\"].isin([\"hard\",\"later\"])]"
   ]
  },
  {
   "cell_type": "code",
   "execution_count": null,
   "metadata": {
    "collapsed": false
   },
   "outputs": [],
   "source": [
    "# Group by with group function: count()\n",
    "words_df.groupby(['word']).size()"
   ]
  },
  {
   "cell_type": "code",
   "execution_count": null,
   "metadata": {
    "collapsed": false
   },
   "outputs": [],
   "source": [
    "# Group by with filter over grouped data\n",
    "grouped = words_df.groupby(['word'])\n",
    "grouped.filter(lambda x: len(x) > 3)"
   ]
  },
  {
   "cell_type": "code",
   "execution_count": 1356,
   "metadata": {
    "collapsed": false
   },
   "outputs": [
    {
     "name": "stdout",
     "output_type": "stream",
     "text": [
      "raspberry\n",
      "ˈræzˌbɛri\n"
     ]
    },
    {
     "data": {
      "image/png": "[encoded data removed]",
      "text/plain": [
       "<IPython.core.display.Image object>"
      ]
     },
     "execution_count": 1356,
     "metadata": {},
     "output_type": "execute_result"
    }
   ],
   "source": [
    "# Study with pre-defined group\n",
    "from IPython.display import Image\n",
    "from IPython.display import Audio\n",
    "sub_df = words_df[words_df[\"rule\"] == \"short a : /æ/\"]\n",
    "sub_df = sub_df.reset_index(drop=True)\n",
    "#sub_df\n",
    "indx = int(sample(range(len(sub_df)), 1)[0])\n",
    "path_image = sub_df.image_path[indx]\n",
    "word = sub_df.word[indx]\n",
    "phonetic = sub_df.phonetic[indx]\n",
    "path_sound = sub_df.path_mp3[indx]\n",
    "#mean = sub_df.mean[indx]\n",
    "#print(indx)\n",
    "print(word)\n",
    "print(phonetic)\n",
    "#print(path_sound)\n",
    "Image(filename = path_image)\n",
    "#sub_df.loc[indx]\n",
    "#Audio(filename = path_sound, autoplay = \"autoplay\")"
   ]
  },
  {
   "cell_type": "code",
   "execution_count": 802,
   "metadata": {
    "collapsed": false
   },
   "outputs": [
    {
     "data": {
      "text/html": [
       "<table>\n",
       "<tr>\n",
       "<th>Header 1</th>\n",
       "<th>Header 2</th>\n",
       "</tr>\n",
       "<tr>\n",
       "<td><img src=\"E:\\repos_git\\megalearner\\tests\\Uk_English_top_1000_words\\images\\able.png\"></td>\n",
       "<td>row 1, cell 2</td>\n",
       "</tr>\n",
       "<tr>\n",
       "<td>row 2, cell 1</td>\n",
       "<td>row 2, cell 2</td>\n",
       "</tr>\n",
       "</table>"
      ],
      "text/plain": [
       "<IPython.core.display.HTML object>"
      ]
     },
     "metadata": {},
     "output_type": "display_data"
    }
   ],
   "source": [
    "%%html\n",
    "<table>\n",
    "<tr>\n",
    "<th>Header 1</th>\n",
    "<th>Header 2</th>\n",
    "</tr>\n",
    "<tr>\n",
    "<td><img src=\"E:\\repos_git\\megalearner\\tests\\Uk_English_top_1000_words\\images\\able.png\"></td>\n",
    "<td>row 1, cell 2</td>\n",
    "</tr>\n",
    "<tr>\n",
    "<td>row 2, cell 1</td>\n",
    "<td>row 2, cell 2</td>\n",
    "</tr>\n",
    "</table>"
   ]
  },
  {
   "cell_type": "code",
   "execution_count": null,
   "metadata": {
    "collapsed": true
   },
   "outputs": [],
   "source": []
  }
 ],
 "metadata": {
  "kernelspec": {
   "display_name": "Python 3",
   "language": "python",
   "name": "python3"
  },
  "language_info": {
   "codemirror_mode": {
    "name": "ipython",
    "version": 3
   },
   "file_extension": ".py",
   "mimetype": "text/x-python",
   "name": "python",
   "nbconvert_exporter": "python",
   "pygments_lexer": "ipython3",
   "version": "3.4.3"
  }
 },
 "nbformat": 4,
 "nbformat_minor": 0
}
